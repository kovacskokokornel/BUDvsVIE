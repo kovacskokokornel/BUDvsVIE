{
 "cells": [
  {
   "cell_type": "code",
   "execution_count": 137,
   "metadata": {},
   "outputs": [],
   "source": [
    "import pandas as pd\n",
    "from os import listdir\n",
    "from os.path import isfile, join\n",
    "from tqdm import tqdm\n",
    "from datetime import datetime, timedelta\n",
    "import dateutil.parser\n",
    "import numpy as np\n",
    "import seaborn as sns\n",
    "%matplotlib inline"
   ]
  },
  {
   "cell_type": "markdown",
   "metadata": {},
   "source": [
    "## Vienna"
   ]
  },
  {
   "cell_type": "code",
   "execution_count": 81,
   "metadata": {},
   "outputs": [],
   "source": [
    "path = \".\\\\data\\\\\""
   ]
  },
  {
   "cell_type": "code",
   "execution_count": 82,
   "metadata": {},
   "outputs": [],
   "source": [
    "files = [f for f in listdir(path)]"
   ]
  },
  {
   "cell_type": "code",
   "execution_count": 83,
   "metadata": {},
   "outputs": [
    {
     "name": "stderr",
     "output_type": "stream",
     "text": [
      "100%|█████████████████████████████████████████████████████████████████████████████| 5763/5763 [00:14<00:00, 399.31it/s]\n"
     ]
    }
   ],
   "source": [
    "vienna_dfs = [pd.read_pickle(path + file) for file in tqdm(files) if file[:3] == \"VIE\"]"
   ]
  },
  {
   "cell_type": "code",
   "execution_count": 84,
   "metadata": {},
   "outputs": [
    {
     "data": {
      "text/html": [
       "<div>\n",
       "<style scoped>\n",
       "    .dataframe tbody tr th:only-of-type {\n",
       "        vertical-align: middle;\n",
       "    }\n",
       "\n",
       "    .dataframe tbody tr th {\n",
       "        vertical-align: top;\n",
       "    }\n",
       "\n",
       "    .dataframe thead th {\n",
       "        text-align: right;\n",
       "    }\n",
       "</style>\n",
       "<table border=\"1\" class=\"dataframe\">\n",
       "  <thead>\n",
       "    <tr style=\"text-align: right;\">\n",
       "      <th></th>\n",
       "      <th>fn</th>\n",
       "      <th>scheduledatetime</th>\n",
       "      <th>schedule</th>\n",
       "      <th>actualdatetime</th>\n",
       "      <th>actual</th>\n",
       "      <th>status</th>\n",
       "      <th>aircraft</th>\n",
       "      <th>airline</th>\n",
       "      <th>destinations</th>\n",
       "    </tr>\n",
       "  </thead>\n",
       "  <tbody>\n",
       "    <tr>\n",
       "      <td>0</td>\n",
       "      <td>ET 726</td>\n",
       "      <td>2019-12-13T04:55:00Z</td>\n",
       "      <td>2019-12-13T05:55:00.000</td>\n",
       "      <td>2019-12-13T04:38:00Z</td>\n",
       "      <td>2019-12-13T05:38:00.000</td>\n",
       "      <td>BLI</td>\n",
       "      <td>Boeing 777-200LR</td>\n",
       "      <td>Ethiopian Airlines</td>\n",
       "      <td>Addis Ababa Bole International Airport</td>\n",
       "    </tr>\n",
       "    <tr>\n",
       "      <td>1</td>\n",
       "      <td>OS 872</td>\n",
       "      <td>2019-12-13T05:00:00Z</td>\n",
       "      <td>2019-12-13T06:00:00.000</td>\n",
       "      <td>2019-12-13T04:41:00Z</td>\n",
       "      <td>2019-12-13T05:41:00.000</td>\n",
       "      <td>BLI</td>\n",
       "      <td>Airbus 320</td>\n",
       "      <td>Austrian</td>\n",
       "      <td>Imam Khomeini International Airport</td>\n",
       "    </tr>\n",
       "    <tr>\n",
       "      <td>2</td>\n",
       "      <td>OS 776</td>\n",
       "      <td>2019-12-13T05:05:00Z</td>\n",
       "      <td>2019-12-13T06:05:00.000</td>\n",
       "      <td>2019-12-13T04:44:00Z</td>\n",
       "      <td>2019-12-13T05:44:00.000</td>\n",
       "      <td>BLI</td>\n",
       "      <td>Airbus 319</td>\n",
       "      <td>Austrian</td>\n",
       "      <td>Skopje International Airport</td>\n",
       "    </tr>\n",
       "    <tr>\n",
       "      <td>3</td>\n",
       "      <td>OS 850</td>\n",
       "      <td>2019-12-13T05:05:00Z</td>\n",
       "      <td>2019-12-13T06:05:00.000</td>\n",
       "      <td>2019-12-13T04:52:00Z</td>\n",
       "      <td>2019-12-13T05:52:00.000</td>\n",
       "      <td>BLI</td>\n",
       "      <td>Airbus 320</td>\n",
       "      <td>Austrian</td>\n",
       "      <td>Tirana International Airport</td>\n",
       "    </tr>\n",
       "    <tr>\n",
       "      <td>4</td>\n",
       "      <td>OS 744</td>\n",
       "      <td>2019-12-13T05:00:00Z</td>\n",
       "      <td>2019-12-13T06:00:00.000</td>\n",
       "      <td>2019-12-13T04:57:00Z</td>\n",
       "      <td>2019-12-13T05:57:00.000</td>\n",
       "      <td>BLI</td>\n",
       "      <td>Embraer 195</td>\n",
       "      <td>Austrian</td>\n",
       "      <td>Kosice International Airport</td>\n",
       "    </tr>\n",
       "  </tbody>\n",
       "</table>\n",
       "</div>"
      ],
      "text/plain": [
       "       fn      scheduledatetime                 schedule  \\\n",
       "0  ET 726  2019-12-13T04:55:00Z  2019-12-13T05:55:00.000   \n",
       "1  OS 872  2019-12-13T05:00:00Z  2019-12-13T06:00:00.000   \n",
       "2  OS 776  2019-12-13T05:05:00Z  2019-12-13T06:05:00.000   \n",
       "3  OS 850  2019-12-13T05:05:00Z  2019-12-13T06:05:00.000   \n",
       "4  OS 744  2019-12-13T05:00:00Z  2019-12-13T06:00:00.000   \n",
       "\n",
       "         actualdatetime                   actual status          aircraft  \\\n",
       "0  2019-12-13T04:38:00Z  2019-12-13T05:38:00.000    BLI  Boeing 777-200LR   \n",
       "1  2019-12-13T04:41:00Z  2019-12-13T05:41:00.000    BLI        Airbus 320   \n",
       "2  2019-12-13T04:44:00Z  2019-12-13T05:44:00.000    BLI        Airbus 319   \n",
       "3  2019-12-13T04:52:00Z  2019-12-13T05:52:00.000    BLI        Airbus 320   \n",
       "4  2019-12-13T04:57:00Z  2019-12-13T05:57:00.000    BLI       Embraer 195   \n",
       "\n",
       "              airline                            destinations  \n",
       "0  Ethiopian Airlines  Addis Ababa Bole International Airport  \n",
       "1            Austrian     Imam Khomeini International Airport  \n",
       "2            Austrian            Skopje International Airport  \n",
       "3            Austrian            Tirana International Airport  \n",
       "4            Austrian            Kosice International Airport  "
      ]
     },
     "execution_count": 84,
     "metadata": {},
     "output_type": "execute_result"
    }
   ],
   "source": [
    "df_vie = pd.concat(vienna_dfs, sort = False).sort_values(by = [\"actual\"]).drop_duplicates(keep = \"last\")\n",
    "df_vie.reset_index(drop = True, inplace = True)"
   ]
  },
  {
   "cell_type": "code",
   "execution_count": 85,
   "metadata": {},
   "outputs": [],
   "source": [
    "df_vie[\"scheduledatetime\"] = [dateutil.parser.parse(x) for x in df_vie[\"scheduledatetime\"]]\n",
    "df_vie[\"actualdatetime\"] = [dateutil.parser.parse(x) for x in df_vie[\"actualdatetime\"]]"
   ]
  },
  {
   "cell_type": "code",
   "execution_count": 151,
   "metadata": {},
   "outputs": [],
   "source": [
    "df_vie[\"delay\"] = df_vie[\"actualdatetime\"] - df_vie[\"scheduledatetime\"]\n",
    "df_vie[\"delay\"] = (df_vie[\"delay\"] / np.timedelta64(1, 'm'))"
   ]
  },
  {
   "cell_type": "code",
   "execution_count": 154,
   "metadata": {},
   "outputs": [
    {
     "data": {
      "text/plain": [
       "13.186505507955937"
      ]
     },
     "execution_count": 154,
     "metadata": {},
     "output_type": "execute_result"
    }
   ],
   "source": [
    "sum(df_vie[\"delay\"])/ len(df_vie[\"delay\"])"
   ]
  },
  {
   "cell_type": "markdown",
   "metadata": {},
   "source": [
    "## Budapest"
   ]
  },
  {
   "cell_type": "code",
   "execution_count": 163,
   "metadata": {},
   "outputs": [
    {
     "name": "stderr",
     "output_type": "stream",
     "text": [
      "100%|███████████████████████████████████████████████████████████████████████████| 5763/5763 [00:00<00:00, 68295.16it/s]\n"
     ]
    }
   ],
   "source": [
    "budapest_dfs = [pd.read_pickle(path + file) for file in tqdm(files) if file[:3] == \"BUD\"]"
   ]
  },
  {
   "cell_type": "code",
   "execution_count": 164,
   "metadata": {},
   "outputs": [
    {
     "data": {
      "text/html": [
       "<div>\n",
       "<style scoped>\n",
       "    .dataframe tbody tr th:only-of-type {\n",
       "        vertical-align: middle;\n",
       "    }\n",
       "\n",
       "    .dataframe tbody tr th {\n",
       "        vertical-align: top;\n",
       "    }\n",
       "\n",
       "    .dataframe thead th {\n",
       "        text-align: right;\n",
       "    }\n",
       "</style>\n",
       "<table border=\"1\" class=\"dataframe\">\n",
       "  <thead>\n",
       "    <tr style=\"text-align: right;\">\n",
       "      <th></th>\n",
       "      <th>airline</th>\n",
       "      <th>airline_fullname</th>\n",
       "      <th>airline_id</th>\n",
       "      <th>airline_website</th>\n",
       "      <th>airport_via_iata</th>\n",
       "      <th>airport_via_name</th>\n",
       "      <th>custom001</th>\n",
       "      <th>custom002</th>\n",
       "      <th>custom003</th>\n",
       "      <th>custom004</th>\n",
       "      <th>...</th>\n",
       "      <th>megjegyzes_eng</th>\n",
       "      <th>sst</th>\n",
       "      <th>suffix</th>\n",
       "      <th>szinezes</th>\n",
       "      <th>terminal</th>\n",
       "      <th>tervezett_datum</th>\n",
       "      <th>tervezett_ido</th>\n",
       "      <th>uniqueautoid</th>\n",
       "      <th>varhato_datum</th>\n",
       "      <th>varhato_ido</th>\n",
       "    </tr>\n",
       "  </thead>\n",
       "  <tbody>\n",
       "    <tr>\n",
       "      <td>0</td>\n",
       "      <td>Wizz Air</td>\n",
       "      <td>Wizz Air</td>\n",
       "      <td>W6</td>\n",
       "      <td>http://www.wizzair.com</td>\n",
       "      <td></td>\n",
       "      <td></td>\n",
       "      <td>customerrelations.hu@wizzair.com</td>\n",
       "      <td>https://facebook.com/wizzaircom</td>\n",
       "      <td>https://twitter.com/wizzair</td>\n",
       "      <td>http://wizzair.com/useful_information/baggage/...</td>\n",
       "      <td>...</td>\n",
       "      <td>Departed</td>\n",
       "      <td>00</td>\n",
       "      <td></td>\n",
       "      <td>0</td>\n",
       "      <td>1</td>\n",
       "      <td>20191212</td>\n",
       "      <td>01:30</td>\n",
       "      <td>M3027467</td>\n",
       "      <td>20191212</td>\n",
       "      <td>01:45</td>\n",
       "    </tr>\n",
       "    <tr>\n",
       "      <td>1</td>\n",
       "      <td>Wizz Air</td>\n",
       "      <td>Wizz Air</td>\n",
       "      <td>W6</td>\n",
       "      <td>http://www.wizzair.com</td>\n",
       "      <td></td>\n",
       "      <td></td>\n",
       "      <td>customerrelations.hu@wizzair.com</td>\n",
       "      <td>https://facebook.com/wizzaircom</td>\n",
       "      <td>https://twitter.com/wizzair</td>\n",
       "      <td>http://wizzair.com/useful_information/baggage/...</td>\n",
       "      <td>...</td>\n",
       "      <td>Departed</td>\n",
       "      <td>00</td>\n",
       "      <td></td>\n",
       "      <td>0</td>\n",
       "      <td>2B</td>\n",
       "      <td>20191212</td>\n",
       "      <td>05:55</td>\n",
       "      <td>M3022779</td>\n",
       "      <td>20191212</td>\n",
       "      <td>06:04</td>\n",
       "    </tr>\n",
       "    <tr>\n",
       "      <td>2</td>\n",
       "      <td>Wizz Air</td>\n",
       "      <td>Wizz Air</td>\n",
       "      <td>W6</td>\n",
       "      <td>http://www.wizzair.com</td>\n",
       "      <td></td>\n",
       "      <td></td>\n",
       "      <td>customerrelations.hu@wizzair.com</td>\n",
       "      <td>https://facebook.com/wizzaircom</td>\n",
       "      <td>https://twitter.com/wizzair</td>\n",
       "      <td>http://wizzair.com/useful_information/baggage/...</td>\n",
       "      <td>...</td>\n",
       "      <td>Departed</td>\n",
       "      <td>00</td>\n",
       "      <td></td>\n",
       "      <td>0</td>\n",
       "      <td>2B</td>\n",
       "      <td>20191212</td>\n",
       "      <td>06:00</td>\n",
       "      <td>M3022780</td>\n",
       "      <td>20191212</td>\n",
       "      <td>06:45</td>\n",
       "    </tr>\n",
       "    <tr>\n",
       "      <td>3</td>\n",
       "      <td>Wizz Air</td>\n",
       "      <td>Wizz Air</td>\n",
       "      <td>W6</td>\n",
       "      <td>http://www.wizzair.com</td>\n",
       "      <td></td>\n",
       "      <td></td>\n",
       "      <td>customerrelations.hu@wizzair.com</td>\n",
       "      <td>https://facebook.com/wizzaircom</td>\n",
       "      <td>https://twitter.com/wizzair</td>\n",
       "      <td>http://wizzair.com/useful_information/baggage/...</td>\n",
       "      <td>...</td>\n",
       "      <td>Departed</td>\n",
       "      <td>00</td>\n",
       "      <td></td>\n",
       "      <td>0</td>\n",
       "      <td>2B</td>\n",
       "      <td>20191212</td>\n",
       "      <td>06:05</td>\n",
       "      <td>M3022782</td>\n",
       "      <td>20191212</td>\n",
       "      <td>07:45</td>\n",
       "    </tr>\n",
       "    <tr>\n",
       "      <td>4</td>\n",
       "      <td>Etihad Airways</td>\n",
       "      <td>Etihad Airways</td>\n",
       "      <td>EY</td>\n",
       "      <td>http://www.etihad.com/</td>\n",
       "      <td></td>\n",
       "      <td></td>\n",
       "      <td></td>\n",
       "      <td>https://facebook.com/etihad.airways</td>\n",
       "      <td>https://twitter.com/EtihadAirways</td>\n",
       "      <td>http://www.etihad.com/en/before-you-fly/baggag...</td>\n",
       "      <td>...</td>\n",
       "      <td>Departed</td>\n",
       "      <td>SL</td>\n",
       "      <td></td>\n",
       "      <td>0</td>\n",
       "      <td>2A</td>\n",
       "      <td>20191212</td>\n",
       "      <td>06:05</td>\n",
       "      <td>C1033823</td>\n",
       "      <td>20191212</td>\n",
       "      <td>06:11</td>\n",
       "    </tr>\n",
       "  </tbody>\n",
       "</table>\n",
       "<p>5 rows × 27 columns</p>\n",
       "</div>"
      ],
      "text/plain": [
       "          airline airline_fullname airline_id         airline_website  \\\n",
       "0        Wizz Air         Wizz Air         W6  http://www.wizzair.com   \n",
       "1        Wizz Air         Wizz Air         W6  http://www.wizzair.com   \n",
       "2        Wizz Air         Wizz Air         W6  http://www.wizzair.com   \n",
       "3        Wizz Air         Wizz Air         W6  http://www.wizzair.com   \n",
       "4  Etihad Airways   Etihad Airways         EY  http://www.etihad.com/   \n",
       "\n",
       "  airport_via_iata airport_via_name                         custom001  \\\n",
       "0                                    customerrelations.hu@wizzair.com   \n",
       "1                                    customerrelations.hu@wizzair.com   \n",
       "2                                    customerrelations.hu@wizzair.com   \n",
       "3                                    customerrelations.hu@wizzair.com   \n",
       "4                                                                       \n",
       "\n",
       "                             custom002                          custom003  \\\n",
       "0      https://facebook.com/wizzaircom        https://twitter.com/wizzair   \n",
       "1      https://facebook.com/wizzaircom        https://twitter.com/wizzair   \n",
       "2      https://facebook.com/wizzaircom        https://twitter.com/wizzair   \n",
       "3      https://facebook.com/wizzaircom        https://twitter.com/wizzair   \n",
       "4  https://facebook.com/etihad.airways  https://twitter.com/EtihadAirways   \n",
       "\n",
       "                                           custom004  ... megjegyzes_eng  sst  \\\n",
       "0  http://wizzair.com/useful_information/baggage/...  ...       Departed   00   \n",
       "1  http://wizzair.com/useful_information/baggage/...  ...       Departed   00   \n",
       "2  http://wizzair.com/useful_information/baggage/...  ...       Departed   00   \n",
       "3  http://wizzair.com/useful_information/baggage/...  ...       Departed   00   \n",
       "4  http://www.etihad.com/en/before-you-fly/baggag...  ...       Departed   SL   \n",
       "\n",
       "  suffix szinezes terminal  tervezett_datum tervezett_ido uniqueautoid  \\\n",
       "0               0        1         20191212         01:30     M3027467   \n",
       "1               0       2B         20191212         05:55     M3022779   \n",
       "2               0       2B         20191212         06:00     M3022780   \n",
       "3               0       2B         20191212         06:05     M3022782   \n",
       "4               0       2A         20191212         06:05     C1033823   \n",
       "\n",
       "  varhato_datum varhato_ido  \n",
       "0      20191212       01:45  \n",
       "1      20191212       06:04  \n",
       "2      20191212       06:45  \n",
       "3      20191212       07:45  \n",
       "4      20191212       06:11  \n",
       "\n",
       "[5 rows x 27 columns]"
      ]
     },
     "execution_count": 164,
     "metadata": {},
     "output_type": "execute_result"
    }
   ],
   "source": [
    "df_bud = pd.concat(budapest_dfs)\n",
    "df_bud.reset_index(drop = True, inplace = True)\n",
    "df_bud.head()"
   ]
  },
  {
   "cell_type": "code",
   "execution_count": 165,
   "metadata": {},
   "outputs": [],
   "source": [
    "df_bud[\"tervezett\"] = df_bud[\"tervezett_datum\"].map(str) + \"-\" + df_bud[\"tervezett_ido\"]\n",
    "df_bud[\"varhato\"] = df_bud[\"varhato_datum\"].map(str) + \"-\" + df_bud[\"varhato_ido\"]"
   ]
  },
  {
   "cell_type": "code",
   "execution_count": 166,
   "metadata": {},
   "outputs": [],
   "source": [
    "df_bud[\"tervezett\"] = [datetime.strptime(x, \"%Y%m%d-%H:%M\") for x in df_bud[\"tervezett\"]]\n",
    "df_bud = df_bud[df_bud[\"varhato\"] != \"-\"]\n",
    "df_bud[\"varhato\"] = [datetime.strptime(x, \"%Y%m%d-%H:%M\") for x in df_bud[\"varhato\"]]"
   ]
  },
  {
   "cell_type": "code",
   "execution_count": 167,
   "metadata": {},
   "outputs": [],
   "source": [
    "df_bud[\"delay\"] = df_bud[\"varhato\"] - df_bud[\"tervezett\"]\n",
    "df_bud[\"delay\"] = (df_bud[\"delay\"] / np.timedelta64(1, 'm'))\n",
    "df_bud = df_bud[df_bud[\"delay\"]>-100]"
   ]
  },
  {
   "cell_type": "code",
   "execution_count": 168,
   "metadata": {},
   "outputs": [
    {
     "data": {
      "text/plain": [
       "11.962290862290862"
      ]
     },
     "execution_count": 168,
     "metadata": {},
     "output_type": "execute_result"
    }
   ],
   "source": [
    "sum(df_bud[\"delay\"]) / len(df_bud[\"delay\"])"
   ]
  },
  {
   "cell_type": "code",
   "execution_count": 172,
   "metadata": {},
   "outputs": [
    {
     "data": {
      "text/plain": [
       "<matplotlib.axes._subplots.AxesSubplot at 0x215bf678848>"
      ]
     },
     "execution_count": 172,
     "metadata": {},
     "output_type": "execute_result"
    },
    {
     "data": {
      "image/png": "[encoded data removed]",
      "text/plain": [
       "<Figure size 432x288 with 1 Axes>"
      ]
     },
     "metadata": {
      "needs_background": "light"
     },
     "output_type": "display_data"
    }
   ],
   "source": [
    "sns.distplot((df_vie[\"delay\"]), bins = 50 )"
   ]
  },
  {
   "cell_type": "code",
   "execution_count": 201,
   "metadata": {},
   "outputs": [
    {
     "data": {
      "text/plain": [
       "<matplotlib.axes._subplots.AxesSubplot at 0x215bf6a9e48>"
      ]
     },
     "execution_count": 201,
     "metadata": {},
     "output_type": "execute_result"
    },
    {
     "data": {
      "image/png": "[encoded data removed]",
      "text/plain": [
       "<Figure size 432x288 with 1 Axes>"
      ]
     },
     "metadata": {
      "needs_background": "light"
     },
     "output_type": "display_data"
    }
   ],
   "source": [
    "sns.distplot((df_bud[\"delay\"]), bins = 50)"
   ]
  },
  {
   "cell_type": "code",
   "execution_count": 205,
   "metadata": {},
   "outputs": [
    {
     "data": {
      "text/plain": [
       "12.110682110682111"
      ]
     },
     "execution_count": 205,
     "metadata": {},
     "output_type": "execute_result"
    }
   ],
   "source": [
    "len(df_bud[df_bud[\"delay\"] > 30]) / len(df_bud) * 100"
   ]
  },
  {
   "cell_type": "code",
   "execution_count": 204,
   "metadata": {},
   "outputs": [
    {
     "data": {
      "text/plain": [
       "14.641982864137088"
      ]
     },
     "execution_count": 204,
     "metadata": {},
     "output_type": "execute_result"
    }
   ],
   "source": [
    "len(df_vie[df_vie[\"delay\"] > 30]) / len(df_vie) * 100"
   ]
  },
  {
   "cell_type": "code",
   "execution_count": 198,
   "metadata": {},
   "outputs": [
    {
     "data": {
      "text/plain": [
       "status\n",
       "BLI          4.182626\n",
       "airborne    22.165623\n",
       "Name: delay, dtype: float64"
      ]
     },
     "execution_count": 198,
     "metadata": {},
     "output_type": "execute_result"
    }
   ],
   "source": [
    "df_vie.groupby(\"status\").mean()[\"delay\"]"
   ]
  },
  {
   "cell_type": "code",
   "execution_count": 206,
   "metadata": {},
   "outputs": [
    {
     "data": {
      "text/plain": [
       "megjegyzes_eng\n",
       "Cancelled    92.000000\n",
       "Departed     18.517926\n",
       "Landed        5.210662\n",
       "Name: delay, dtype: float64"
      ]
     },
     "execution_count": 206,
     "metadata": {},
     "output_type": "execute_result"
    }
   ],
   "source": [
    "df_bud.groupby(\"megjegyzes_eng\").mean()[\"delay\"]"
   ]
  },
  {
   "cell_type": "code",
   "execution_count": null,
   "metadata": {},
   "outputs": [],
   "source": []
  }
 ],
 "metadata": {
  "kernelspec": {
   "display_name": "Python 3",
   "language": "python",
   "name": "python3"
  },
  "language_info": {
   "codemirror_mode": {
    "name": "ipython",
    "version": 3
   },
   "file_extension": ".py",
   "mimetype": "text/x-python",
   "name": "python",
   "nbconvert_exporter": "python",
   "pygments_lexer": "ipython3",
   "version": "3.7.4"
  }
 },
 "nbformat": 4,
 "nbformat_minor": 2
}
